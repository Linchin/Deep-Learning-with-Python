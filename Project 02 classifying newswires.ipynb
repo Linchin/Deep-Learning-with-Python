{
 "cells": [
  {
   "cell_type": "markdown",
   "id": "0ee2ca04",
   "metadata": {},
   "source": [
    "# Loading the Reuters Dataset"
   ]
  },
  {
   "cell_type": "code",
   "execution_count": 1,
   "id": "8c40fa35",
   "metadata": {},
   "outputs": [
    {
     "name": "stdout",
     "output_type": "stream",
     "text": [
      "Downloading data from https://storage.googleapis.com/tensorflow/tf-keras-datasets/reuters.npz\n",
      "2113536/2110848 [==============================] - 0s 0us/step\n"
     ]
    },
    {
     "name": "stderr",
     "output_type": "stream",
     "text": [
      "C:\\ProgramData\\Anaconda3\\envs\\tf\\lib\\site-packages\\tensorflow\\python\\keras\\datasets\\reuters.py:148: VisibleDeprecationWarning: Creating an ndarray from ragged nested sequences (which is a list-or-tuple of lists-or-tuples-or ndarrays with different lengths or shapes) is deprecated. If you meant to do this, you must specify 'dtype=object' when creating the ndarray.\n",
      "  x_train, y_train = np.array(xs[:idx]), np.array(labels[:idx])\n",
      "C:\\ProgramData\\Anaconda3\\envs\\tf\\lib\\site-packages\\tensorflow\\python\\keras\\datasets\\reuters.py:149: VisibleDeprecationWarning: Creating an ndarray from ragged nested sequences (which is a list-or-tuple of lists-or-tuples-or ndarrays with different lengths or shapes) is deprecated. If you meant to do this, you must specify 'dtype=object' when creating the ndarray.\n",
      "  x_test, y_test = np.array(xs[idx:]), np.array(labels[idx:])\n"
     ]
    }
   ],
   "source": [
    "from keras.datasets import reuters\n",
    "(train_data, train_labels), (test_data, test_labels) = reuters.load_data(num_words=10000)"
   ]
  },
  {
   "cell_type": "markdown",
   "id": "91fae157",
   "metadata": {},
   "source": [
    "## Check what the data looks like"
   ]
  },
  {
   "cell_type": "code",
   "execution_count": 7,
   "id": "3067051a",
   "metadata": {},
   "outputs": [
    {
     "name": "stdout",
     "output_type": "stream",
     "text": [
      "8982 87\n",
      "8982\n",
      "2246 145\n",
      "2246\n"
     ]
    }
   ],
   "source": [
    "print(len(train_data), len(train_data[0]))\n",
    "print(len(train_labels))\n",
    "print(len(test_data), len(test_data[0]))\n",
    "print(len(test_labels))"
   ]
  },
  {
   "cell_type": "code",
   "execution_count": 17,
   "id": "6bfb616c",
   "metadata": {},
   "outputs": [
    {
     "name": "stdout",
     "output_type": "stream",
     "text": [
      "[1, 2, 2, 8, 43, 10, 447, 5, 25, 207, 270, 5, 3095, 111, 16, 369, 186, 90, 67, 7, 89, 5, 19, 102, 6, 19, 124, 15, 90, 67, 84, 22, 482, 26, 7, 48, 4, 49, 8, 864, 39, 209, 154, 6, 151, 6, 83, 11, 15, 22, 155, 11, 15, 7, 48, 9, 4579, 1005, 504, 6, 258, 6, 272, 11, 15, 22, 134, 44, 11, 15, 16, 8, 197, 1245, 90, 67, 52, 29, 209, 30, 32, 132, 6, 109, 15, 17, 12]\n",
      "[ 3  4  3  4  4  4  4  3  3 16]\n",
      "0 45\n"
     ]
    }
   ],
   "source": [
    "print(train_data[0])\n",
    "print(train_labels[:10])\n",
    "print(min(train_labels), max(train_labels))"
   ]
  },
  {
   "cell_type": "markdown",
   "id": "8da9ca3e",
   "metadata": {},
   "source": [
    "## decode back to words"
   ]
  },
  {
   "cell_type": "code",
   "execution_count": 11,
   "id": "8c9a4820",
   "metadata": {},
   "outputs": [
    {
     "name": "stdout",
     "output_type": "stream",
     "text": [
      "[('mdbl', 10996), ('fawc', 16260), ('degussa', 12089), ('woods', 8803), ('hanging', 13796), ('localized', 20672), ('sation', 20673), ('chanthaburi', 20675), ('refunding', 10997), ('hermann', 8804)]\n"
     ]
    }
   ],
   "source": [
    "word_index = reuters.get_word_index()\n",
    "print(list(word_index.items())[:10])"
   ]
  },
  {
   "cell_type": "code",
   "execution_count": 13,
   "id": "7f58799a",
   "metadata": {},
   "outputs": [
    {
     "name": "stdout",
     "output_type": "stream",
     "text": [
      "[(10996, 'mdbl'), (16260, 'fawc'), (12089, 'degussa'), (8803, 'woods'), (13796, 'hanging'), (20672, 'localized'), (20673, 'sation'), (20675, 'chanthaburi'), (10997, 'refunding'), (8804, 'hermann')]\n"
     ]
    }
   ],
   "source": [
    "index2word = {val: key for (key, val) in word_index.items()}\n",
    "print(list(index2word.items())[:10])"
   ]
  },
  {
   "cell_type": "code",
   "execution_count": 15,
   "id": "36aa8d69",
   "metadata": {},
   "outputs": [
    {
     "name": "stdout",
     "output_type": "stream",
     "text": [
      "the of of mln loss for plc said at only ended said commonwealth could 1 traders now april 0 a after said from 1985 and from foreign 000 april 0 prices its account year a but in this mln home an states earlier and rise and revs vs 000 its 16 vs 000 a but 3 psbr oils several and shareholders and dividend vs 000 its all 4 vs 000 1 mln agreed largely april 0 are 2 states will billion total and against 000 pct dlrs\n"
     ]
    }
   ],
   "source": [
    "print(\" \".join(index2word[index] for index in train_data[0]))"
   ]
  },
  {
   "cell_type": "markdown",
   "id": "56f2ef13",
   "metadata": {},
   "source": [
    "# Prepare the data\n",
    "\n",
    "one-hot vectorization for both data and labels"
   ]
  },
  {
   "cell_type": "code",
   "execution_count": 19,
   "id": "db615cf5",
   "metadata": {},
   "outputs": [],
   "source": [
    "import numpy as np\n",
    "\n",
    "def word2tensor(data, num_words=10000):\n",
    "    \n",
    "    tensor = np.zeros((len(data), num_words))\n",
    "    \n",
    "    for i in  range(len(data)):\n",
    "        for index in data[i]:\n",
    "            tensor[i, index] = 1\n",
    "            \n",
    "    return tensor\n",
    "\n",
    "x_train = word2tensor(train_data)\n",
    "x_test = word2tensor(test_data)\n",
    "\n",
    "def cat2tensor(labels):\n",
    "    \n",
    "    cat_max = max(labels)\n",
    "    cat_min = min(labels)\n",
    "    \n",
    "    tensor = np.zeros((len(labels), cat_max-cat_min+1))\n",
    "    \n",
    "    for i in range(len(labels)):\n",
    "        \n",
    "        tensor[i, labels[i]] = 1\n",
    "        \n",
    "    return tensor\n",
    "\n",
    "y_train = cat2tensor(train_labels)\n",
    "y_test = cat2tensor(test_labels)\n",
    "        "
   ]
  },
  {
   "cell_type": "markdown",
   "id": "9c1d7b09",
   "metadata": {},
   "source": [
    "## double check the converted data"
   ]
  },
  {
   "cell_type": "code",
   "execution_count": 28,
   "id": "e989b973",
   "metadata": {},
   "outputs": [
    {
     "name": "stdout",
     "output_type": "stream",
     "text": [
      "(8982, 10000)\n",
      "(8982, 46)\n",
      "[[0. 1. 1. ... 0. 0. 0.]\n",
      " [0. 1. 1. ... 0. 0. 0.]\n",
      " [0. 1. 1. ... 0. 0. 0.]\n",
      " ...\n",
      " [0. 1. 1. ... 0. 0. 0.]\n",
      " [0. 1. 1. ... 0. 0. 0.]\n",
      " [0. 1. 1. ... 0. 0. 0.]]\n",
      "[[0. 0. 0. ... 0. 0. 0.]\n",
      " [0. 0. 0. ... 0. 0. 0.]\n",
      " [0. 0. 0. ... 0. 0. 0.]\n",
      " ...\n",
      " [0. 0. 0. ... 0. 0. 0.]\n",
      " [0. 0. 0. ... 0. 0. 0.]\n",
      " [0. 0. 0. ... 0. 0. 0.]]\n",
      "[  55.  432.   74. 3159. 1949.   17.   48.   16.  139.  101.  124.  390.\n",
      "   49.  172.   26.   20.  444.   39.   66.  549.  269.  100.   15.   41.\n",
      "   62.   92.   24.   15.   48.   19.   45.   39.   32.   11.   50.   10.\n",
      "   49.   19.   19.   24.   36.   30.   13.   21.   12.   18.]\n"
     ]
    }
   ],
   "source": [
    "print(x_train.shape)\n",
    "print(y_train.shape)\n",
    "print(x_train)\n",
    "print(y_train)\n",
    "print(sum(y_train))"
   ]
  },
  {
   "cell_type": "markdown",
   "id": "7523560f",
   "metadata": {},
   "source": [
    "# Build and Validate model"
   ]
  },
  {
   "cell_type": "code",
   "execution_count": 30,
   "id": "5e268ff9",
   "metadata": {},
   "outputs": [],
   "source": [
    "from keras import models\n",
    "from keras import layers\n",
    "\n",
    "# build the model\n",
    "model_val = models.Sequential()\n",
    "model_val.add(layers.Dense(64, activation='relu', input_shape=(10000,)))\n",
    "model_val.add(layers.Dense(64, activation='relu'))\n",
    "model_val.add(layers.Dense(46, activation='softmax'))\n",
    "\n",
    "\n",
    "# compile the model\n",
    "model_val.compile(optimizer='rmsprop',\n",
    "                  loss='categorical_crossentropy',\n",
    "                  metrics=['accuracy'])\n",
    "\n",
    "x_val = x_train[:1000]\n",
    "partial_x_train = x_train[1000:]\n",
    "\n",
    "y_val = y_train[:1000]\n",
    "partial_y_train = y_train[1000:]"
   ]
  },
  {
   "cell_type": "markdown",
   "id": "068512ea",
   "metadata": {},
   "source": [
    "## train the model"
   ]
  },
  {
   "cell_type": "code",
   "execution_count": 32,
   "id": "cce4fd89",
   "metadata": {},
   "outputs": [
    {
     "name": "stdout",
     "output_type": "stream",
     "text": [
      "Epoch 1/20\n",
      "16/16 [==============================] - 0s 27ms/step - loss: 2.5534 - accuracy: 0.5397 - val_loss: 1.6882 - val_accuracy: 0.6340\n",
      "Epoch 2/20\n",
      "16/16 [==============================] - 0s 15ms/step - loss: 1.3899 - accuracy: 0.7077 - val_loss: 1.2830 - val_accuracy: 0.7120\n",
      "Epoch 3/20\n",
      "16/16 [==============================] - 0s 14ms/step - loss: 1.0393 - accuracy: 0.7766 - val_loss: 1.1443 - val_accuracy: 0.7410\n",
      "Epoch 4/20\n",
      "16/16 [==============================] - 0s 15ms/step - loss: 0.8206 - accuracy: 0.8289 - val_loss: 1.0260 - val_accuracy: 0.7860\n",
      "Epoch 5/20\n",
      "16/16 [==============================] - 0s 15ms/step - loss: 0.6541 - accuracy: 0.8643 - val_loss: 0.9493 - val_accuracy: 0.8050\n",
      "Epoch 6/20\n",
      "16/16 [==============================] - 0s 17ms/step - loss: 0.5232 - accuracy: 0.8909 - val_loss: 0.9194 - val_accuracy: 0.8140\n",
      "Epoch 7/20\n",
      "16/16 [==============================] - 0s 15ms/step - loss: 0.4171 - accuracy: 0.9148 - val_loss: 0.9020 - val_accuracy: 0.8120\n",
      "Epoch 8/20\n",
      "16/16 [==============================] - 0s 14ms/step - loss: 0.3421 - accuracy: 0.9267 - val_loss: 0.8805 - val_accuracy: 0.8130\n",
      "Epoch 9/20\n",
      "16/16 [==============================] - 0s 14ms/step - loss: 0.2783 - accuracy: 0.9396 - val_loss: 0.8930 - val_accuracy: 0.8130\n",
      "Epoch 10/20\n",
      "16/16 [==============================] - 0s 15ms/step - loss: 0.2384 - accuracy: 0.9445 - val_loss: 0.8936 - val_accuracy: 0.8180\n",
      "Epoch 11/20\n",
      "16/16 [==============================] - 0s 14ms/step - loss: 0.2063 - accuracy: 0.9481 - val_loss: 0.9355 - val_accuracy: 0.8110\n",
      "Epoch 12/20\n",
      "16/16 [==============================] - 0s 14ms/step - loss: 0.1775 - accuracy: 0.9515 - val_loss: 0.9367 - val_accuracy: 0.8130\n",
      "Epoch 13/20\n",
      "16/16 [==============================] - 0s 14ms/step - loss: 0.1619 - accuracy: 0.9525 - val_loss: 0.9897 - val_accuracy: 0.8100\n",
      "Epoch 14/20\n",
      "16/16 [==============================] - 0s 15ms/step - loss: 0.1500 - accuracy: 0.9543 - val_loss: 0.9959 - val_accuracy: 0.8030\n",
      "Epoch 15/20\n",
      "16/16 [==============================] - 0s 15ms/step - loss: 0.1351 - accuracy: 0.9564 - val_loss: 0.9914 - val_accuracy: 0.8110\n",
      "Epoch 16/20\n",
      "16/16 [==============================] - 0s 14ms/step - loss: 0.1244 - accuracy: 0.9562 - val_loss: 1.0092 - val_accuracy: 0.8150\n",
      "Epoch 17/20\n",
      "16/16 [==============================] - 0s 15ms/step - loss: 0.1239 - accuracy: 0.9555 - val_loss: 1.0233 - val_accuracy: 0.8140\n",
      "Epoch 18/20\n",
      "16/16 [==============================] - 0s 16ms/step - loss: 0.1164 - accuracy: 0.9573 - val_loss: 1.0956 - val_accuracy: 0.8040\n",
      "Epoch 19/20\n",
      "16/16 [==============================] - 0s 14ms/step - loss: 0.1086 - accuracy: 0.9597 - val_loss: 1.2164 - val_accuracy: 0.7780\n",
      "Epoch 20/20\n",
      "16/16 [==============================] - 0s 12ms/step - loss: 0.1081 - accuracy: 0.9602 - val_loss: 1.1113 - val_accuracy: 0.7990\n"
     ]
    }
   ],
   "source": [
    "history = model_val.fit(partial_x_train,\n",
    "                    partial_y_train,\n",
    "                    epochs=20,\n",
    "                    batch_size=512,\n",
    "                    validation_data=(x_val, y_val))"
   ]
  },
  {
   "cell_type": "markdown",
   "id": "89ff48d4",
   "metadata": {},
   "source": [
    "## Plot the training and validation loss"
   ]
  },
  {
   "cell_type": "code",
   "execution_count": 35,
   "id": "deabecd5",
   "metadata": {},
   "outputs": [
    {
     "name": "stdout",
     "output_type": "stream",
     "text": [
      "dict_keys(['loss', 'accuracy', 'val_loss', 'val_accuracy'])\n"
     ]
    },
    {
     "data": {
      "image/png": "[encoded data removed]",
      "text/plain": [
       "<Figure size 432x288 with 1 Axes>"
      ]
     },
     "metadata": {
      "needs_background": "light"
     },
     "output_type": "display_data"
    }
   ],
   "source": [
    "print(history.history.keys())\n",
    "\n",
    "import matplotlib.pyplot as plt\n",
    "\n",
    "loss = history.history['loss']\n",
    "val_loss = history.history['val_loss']\n",
    "\n",
    "epochs = range(1, len(loss)+1)\n",
    "\n",
    "plt.plot(epochs, loss, 'bo', label=\"Training loss\")\n",
    "plt.plot(epochs, val_loss, 'b', label=\"Validation loss\")\n",
    "plt.title('Training and validation loss')\n",
    "plt.xlabel('Epochs')\n",
    "plt.ylabel('Loss')\n",
    "plt.legend()\n",
    "\n",
    "plt.show()"
   ]
  },
  {
   "cell_type": "markdown",
   "id": "6c655def",
   "metadata": {},
   "source": [
    "## Plot the training and validation accuracy"
   ]
  },
  {
   "cell_type": "code",
   "execution_count": 36,
   "id": "594ffd25",
   "metadata": {},
   "outputs": [
    {
     "data": {
      "image/png": "[encoded data removed]",
      "text/plain": [
       "<Figure size 432x288 with 1 Axes>"
      ]
     },
     "metadata": {
      "needs_background": "light"
     },
     "output_type": "display_data"
    }
   ],
   "source": [
    "plt.clf()\n",
    "\n",
    "acc = history.history['accuracy']\n",
    "val_acc = history.history['val_accuracy']\n",
    "\n",
    "plt.plot(epochs, acc, 'bo', label=\"Training acc\")\n",
    "plt.plot(epochs, val_acc, 'b', label=\"Validation acc\")\n",
    "plt.title('Training and validation accuracy')\n",
    "plt.xlabel('Epochs')\n",
    "plt.ylabel('Loss')\n",
    "plt.legend()\n",
    "\n",
    "plt.show()\n",
    "\n",
    "\n"
   ]
  },
  {
   "cell_type": "markdown",
   "id": "afdd523a",
   "metadata": {},
   "source": [
    "# Build the actual model"
   ]
  },
  {
   "cell_type": "code",
   "execution_count": 37,
   "id": "d2e3df16",
   "metadata": {},
   "outputs": [],
   "source": [
    "# build the model\n",
    "model = models.Sequential()\n",
    "model.add(layers.Dense(64, activation='relu', input_shape=(10000,)))\n",
    "model.add(layers.Dense(64, activation='relu'))\n",
    "model.add(layers.Dense(46, activation='softmax'))\n",
    "\n",
    "\n",
    "# compile the model\n",
    "model.compile(optimizer='rmsprop',\n",
    "                  loss='categorical_crossentropy',\n",
    "                  metrics=['accuracy'])"
   ]
  },
  {
   "cell_type": "code",
   "execution_count": 38,
   "id": "e6a9b0a7",
   "metadata": {},
   "outputs": [
    {
     "name": "stdout",
     "output_type": "stream",
     "text": [
      "Epoch 1/8\n",
      "18/18 [==============================] - 0s 13ms/step - loss: 2.5266 - accuracy: 0.5507\n",
      "Epoch 2/8\n",
      "18/18 [==============================] - 0s 13ms/step - loss: 1.3351 - accuracy: 0.7249\n",
      "Epoch 3/8\n",
      "18/18 [==============================] - 0s 13ms/step - loss: 0.9899 - accuracy: 0.7900\n",
      "Epoch 4/8\n",
      "18/18 [==============================] - 0s 13ms/step - loss: 0.7781 - accuracy: 0.8338\n",
      "Epoch 5/8\n",
      "18/18 [==============================] - 0s 13ms/step - loss: 0.6214 - accuracy: 0.8676\n",
      "Epoch 6/8\n",
      "18/18 [==============================] - 0s 13ms/step - loss: 0.5011 - accuracy: 0.8986\n",
      "Epoch 7/8\n",
      "18/18 [==============================] - 0s 13ms/step - loss: 0.3994 - accuracy: 0.9187\n",
      "Epoch 8/8\n",
      "18/18 [==============================] - 0s 10ms/step - loss: 0.3327 - accuracy: 0.9299\n"
     ]
    },
    {
     "data": {
      "text/plain": [
       "<tensorflow.python.keras.callbacks.History at 0x27dc56554f0>"
      ]
     },
     "execution_count": 38,
     "metadata": {},
     "output_type": "execute_result"
    }
   ],
   "source": [
    "model.fit(x_train, y_train,\n",
    "         epochs=8,\n",
    "         batch_size=512)"
   ]
  },
  {
   "cell_type": "markdown",
   "id": "30d66923",
   "metadata": {},
   "source": [
    "## Evaluate the result"
   ]
  },
  {
   "cell_type": "code",
   "execution_count": 40,
   "id": "0374d239",
   "metadata": {},
   "outputs": [
    {
     "name": "stdout",
     "output_type": "stream",
     "text": [
      "71/71 [==============================] - 0s 1ms/step - loss: 0.9514 - accuracy: 0.7930\n",
      "[0.9514004588127136, 0.792965292930603]\n"
     ]
    }
   ],
   "source": [
    "results = model.evaluate(x_test, y_test)\n",
    "print(results)"
   ]
  },
  {
   "cell_type": "markdown",
   "id": "c476d018",
   "metadata": {},
   "source": [
    "# Generate predictions on new data"
   ]
  },
  {
   "cell_type": "code",
   "execution_count": 44,
   "id": "b8fa5978",
   "metadata": {},
   "outputs": [
    {
     "name": "stdout",
     "output_type": "stream",
     "text": [
      "[3.04201021e-05 7.21859979e-05 9.23449534e-06 9.22605038e-01\n",
      " 7.10088387e-02 3.44125219e-05 2.84535527e-05 1.65859092e-05\n",
      " 5.87669201e-04 1.32651712e-05 8.96557322e-05 8.39325425e-04\n",
      " 4.01000259e-04 5.75884806e-05 1.52621487e-05 1.04196206e-05\n",
      " 4.71032021e-04 8.48004765e-06 4.08035703e-05 1.23882946e-03\n",
      " 1.08594098e-03 2.21720271e-04 1.38167543e-05 4.81637144e-05\n",
      " 2.55056002e-05 1.55654925e-04 4.38852931e-06 3.79599114e-05\n",
      " 4.62286989e-05 4.59224721e-05 1.26499130e-04 2.13256899e-05\n",
      " 1.35787614e-05 5.05475145e-06 1.30825312e-04 1.11606087e-05\n",
      " 1.56329872e-04 9.48908200e-06 5.16465516e-05 9.76880474e-05\n",
      " 1.61863136e-05 5.08970770e-05 1.17534455e-05 3.15679536e-05\n",
      " 1.02366914e-06 1.04632500e-06]\n",
      "0.9999998745630592\n",
      "3\n"
     ]
    }
   ],
   "source": [
    "predictions = model.predict(x_test)\n",
    "print(predictions[0])\n",
    "print(sum(predictions[0]))\n",
    "print(np.argmax(predictions[0]))"
   ]
  },
  {
   "cell_type": "code",
   "execution_count": null,
   "id": "fb1fb781",
   "metadata": {},
   "outputs": [],
   "source": []
  },
  {
   "cell_type": "code",
   "execution_count": null,
   "id": "02592a08",
   "metadata": {},
   "outputs": [],
   "source": []
  },
  {
   "cell_type": "code",
   "execution_count": null,
   "id": "9feb905b",
   "metadata": {},
   "outputs": [],
   "source": []
  },
  {
   "cell_type": "code",
   "execution_count": null,
   "id": "b29f12b6",
   "metadata": {},
   "outputs": [],
   "source": []
  }
 ],
 "metadata": {
  "kernelspec": {
   "display_name": "Python 3",
   "language": "python",
   "name": "python3"
  },
  "language_info": {
   "codemirror_mode": {
    "name": "ipython",
    "version": 3
   },
   "file_extension": ".py",
   "mimetype": "text/x-python",
   "name": "python",
   "nbconvert_exporter": "python",
   "pygments_lexer": "ipython3",
   "version": "3.8.8"
  }
 },
 "nbformat": 4,
 "nbformat_minor": 5
}
